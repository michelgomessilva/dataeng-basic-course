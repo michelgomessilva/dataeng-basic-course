{
  "cells": [
    {
      "cell_type": "markdown",
      "metadata": {
        "id": "4M10EVsXFrd_"
      },
      "source": [
        "<a href=\"https://colab.research.google.com/github/lucprosa/dataeng-basic-course/blob/main/spark/examples/04-joins.ipynb\" target=\"_parent\"><img src=\"https://colab.research.google.com/assets/colab-badge.svg\" alt=\"Open In Colab\"/></a>"
      ]
    },
    {
      "cell_type": "markdown",
      "metadata": {
        "id": "BOA_wQSmLd9z"
      },
      "source": [
        "# Joins\n",
        "- inner join\n",
        "- left/right join\n",
        "- full join\n",
        "- left anti join\n",
        "- cartesian product\n",
        "- union/unionAll\n",
        "- minus\n",
        "- intersect"
      ]
    },
    {
      "cell_type": "markdown",
      "metadata": {
        "id": "d9LeYFsPTjAb"
      },
      "source": [
        "# Setting up PySpark"
      ]
    },
    {
      "cell_type": "code",
      "execution_count": null,
      "metadata": {
        "id": "uYXeODL0T1fO"
      },
      "outputs": [],
      "source": [
        "%pip install pyspark"
      ]
    },
    {
      "cell_type": "code",
      "execution_count": 1,
      "metadata": {
        "id": "637HFw00T3LP"
      },
      "outputs": [],
      "source": [
        "from pyspark.sql import SparkSession\n",
        "spark = SparkSession.builder.master('local').appName('Spark Course').config('spark.ui.port', '4050').getOrCreate()\n",
        "sc = spark.sparkContext"
      ]
    },
    {
      "cell_type": "code",
      "source": [
        "employee_data = [(\"101\", \"Chloe\", 3),\n",
        "            (\"102\", \"Paul\", 1),\n",
        "            (\"103\", \"John\", 1),\n",
        "            (\"104\", \"Lisa\", 2),\n",
        "            (\"105\", \"Evan\", 3),\n",
        "            (\"106\", \"Amy\", 3),\n",
        "            (\"107\", \"Jimmy\", 5)]\n",
        "dpto_data = [(\"1\", \"Engineering\"), (\"2\", \"Sales\"), (\"3\", \"Marketing\"), (\"4\", \"Finance\")]\n",
        "\n",
        "employee_columns = [\"id\", \"name\", \"dpto\"]\n",
        "dpto_columns = [\"dpto\", \"deptname\"]\n",
        "\n",
        "employee = sc.parallelize(employee_data).toDF(employee_columns)\n",
        "dpto = sc.parallelize(dpto_data).toDF(dpto_columns)"
      ],
      "metadata": {
        "id": "Us_jgkYJIhcT"
      },
      "execution_count": 2,
      "outputs": []
    },
    {
      "cell_type": "code",
      "source": [
        "# Employee's dtaframe\n",
        "employee.show()"
      ],
      "metadata": {
        "id": "qudxqOymJj-s",
        "outputId": "052e7a0c-19ce-485c-aca7-4e401f100906",
        "colab": {
          "base_uri": "https://localhost:8080/"
        }
      },
      "execution_count": 3,
      "outputs": [
        {
          "output_type": "stream",
          "name": "stdout",
          "text": [
            "+---+-----+----+\n",
            "| id| name|dpto|\n",
            "+---+-----+----+\n",
            "|101|Chloe|   3|\n",
            "|102| Paul|   1|\n",
            "|103| John|   1|\n",
            "|104| Lisa|   2|\n",
            "|105| Evan|   3|\n",
            "|106|  Amy|   3|\n",
            "|107|Jimmy|   5|\n",
            "+---+-----+----+\n",
            "\n"
          ]
        }
      ]
    },
    {
      "cell_type": "code",
      "source": [
        "# Department's dtaframe\n",
        "dpto.show()"
      ],
      "metadata": {
        "id": "RXHcXZIPLfhZ",
        "outputId": "213fe71d-44e1-42b9-f2dd-569249220357",
        "colab": {
          "base_uri": "https://localhost:8080/"
        }
      },
      "execution_count": 4,
      "outputs": [
        {
          "output_type": "stream",
          "name": "stdout",
          "text": [
            "+----+-----------+\n",
            "|dpto|   deptname|\n",
            "+----+-----------+\n",
            "|   1|Engineering|\n",
            "|   2|      Sales|\n",
            "|   3|  Marketing|\n",
            "|   4|    Finance|\n",
            "+----+-----------+\n",
            "\n"
          ]
        }
      ]
    },
    {
      "cell_type": "markdown",
      "metadata": {
        "id": "a7dhl2LPFreE"
      },
      "source": [
        "# Joins"
      ]
    },
    {
      "cell_type": "code",
      "execution_count": 5,
      "metadata": {
        "id": "3isk0KvuFreE",
        "outputId": "169ed2c8-3799-490a-f2e7-f87b5c89875f",
        "colab": {
          "base_uri": "https://localhost:8080/"
        }
      },
      "outputs": [
        {
          "output_type": "stream",
          "name": "stdout",
          "text": [
            "+----+---+-----+-----------+\n",
            "|dpto| id| name|   deptname|\n",
            "+----+---+-----+-----------+\n",
            "|   1|102| Paul|Engineering|\n",
            "|   1|103| John|Engineering|\n",
            "|   2|104| Lisa|      Sales|\n",
            "|   3|101|Chloe|  Marketing|\n",
            "|   3|105| Evan|  Marketing|\n",
            "|   3|106|  Amy|  Marketing|\n",
            "+----+---+-----+-----------+\n",
            "\n",
            "+---+-----+----+----+-----------+\n",
            "| id| name|dpto|dpto|   deptname|\n",
            "+---+-----+----+----+-----------+\n",
            "|102| Paul|   1|   1|Engineering|\n",
            "|103| John|   1|   1|Engineering|\n",
            "|104| Lisa|   2|   2|      Sales|\n",
            "|101|Chloe|   3|   3|  Marketing|\n",
            "|105| Evan|   3|   3|  Marketing|\n",
            "|106|  Amy|   3|   3|  Marketing|\n",
            "+---+-----+----+----+-----------+\n",
            "\n"
          ]
        }
      ],
      "source": [
        "# Inner join - exists on both sides\n",
        "employee.join(dpto, [\"dpto\"]).show()\n",
        "# or\n",
        "employee.join(dpto, employee[\"dpto\"] == dpto[\"dpto\"], how = \"inner\").show()"
      ]
    },
    {
      "cell_type": "code",
      "source": [
        "# Left join - bring everything from the left side + what exists on right side\n",
        "\n",
        "employee.join(dpto, employee[\"dpto\"] == dpto[\"dpto\"], how = \"left\").show()"
      ],
      "metadata": {
        "id": "7kH24QHgL9NE",
        "outputId": "871756be-2e9a-4986-99a8-b639163961ce",
        "colab": {
          "base_uri": "https://localhost:8080/"
        }
      },
      "execution_count": 6,
      "outputs": [
        {
          "output_type": "stream",
          "name": "stdout",
          "text": [
            "+---+-----+----+----+-----------+\n",
            "| id| name|dpto|dpto|   deptname|\n",
            "+---+-----+----+----+-----------+\n",
            "|107|Jimmy|   5|NULL|       NULL|\n",
            "|102| Paul|   1|   1|Engineering|\n",
            "|103| John|   1|   1|Engineering|\n",
            "|101|Chloe|   3|   3|  Marketing|\n",
            "|105| Evan|   3|   3|  Marketing|\n",
            "|106|  Amy|   3|   3|  Marketing|\n",
            "|104| Lisa|   2|   2|      Sales|\n",
            "+---+-----+----+----+-----------+\n",
            "\n"
          ]
        }
      ]
    },
    {
      "cell_type": "code",
      "source": [
        "# Right join - bring everything from the right side + what exists on left side\n",
        "\n",
        "employee.join(dpto, employee[\"dpto\"] == dpto[\"dpto\"], how = \"right\").show()"
      ],
      "metadata": {
        "id": "0DvT6UdyM_0h",
        "outputId": "55a6c7f6-d3e4-46c0-e761-6623ffeb0143",
        "colab": {
          "base_uri": "https://localhost:8080/"
        }
      },
      "execution_count": 7,
      "outputs": [
        {
          "output_type": "stream",
          "name": "stdout",
          "text": [
            "+----+-----+----+----+-----------+\n",
            "|  id| name|dpto|dpto|   deptname|\n",
            "+----+-----+----+----+-----------+\n",
            "| 103| John|   1|   1|Engineering|\n",
            "| 102| Paul|   1|   1|Engineering|\n",
            "| 106|  Amy|   3|   3|  Marketing|\n",
            "| 105| Evan|   3|   3|  Marketing|\n",
            "| 101|Chloe|   3|   3|  Marketing|\n",
            "| 104| Lisa|   2|   2|      Sales|\n",
            "|NULL| NULL|NULL|   4|    Finance|\n",
            "+----+-----+----+----+-----------+\n",
            "\n"
          ]
        }
      ]
    },
    {
      "cell_type": "code",
      "source": [
        "# Full join - bring everything from both side\n",
        "\n",
        "employee.join(dpto, employee[\"dpto\"] == dpto[\"dpto\"], how = \"full\").show()"
      ],
      "metadata": {
        "id": "cD5qkGyDNecI",
        "outputId": "87531c2f-924b-4a79-b0bb-39557a8a8cfe",
        "colab": {
          "base_uri": "https://localhost:8080/"
        }
      },
      "execution_count": 8,
      "outputs": [
        {
          "output_type": "stream",
          "name": "stdout",
          "text": [
            "+----+-----+----+----+-----------+\n",
            "|  id| name|dpto|dpto|   deptname|\n",
            "+----+-----+----+----+-----------+\n",
            "| 102| Paul|   1|   1|Engineering|\n",
            "| 103| John|   1|   1|Engineering|\n",
            "| 104| Lisa|   2|   2|      Sales|\n",
            "| 101|Chloe|   3|   3|  Marketing|\n",
            "| 105| Evan|   3|   3|  Marketing|\n",
            "| 106|  Amy|   3|   3|  Marketing|\n",
            "|NULL| NULL|NULL|   4|    Finance|\n",
            "| 107|Jimmy|   5|NULL|       NULL|\n",
            "+----+-----+----+----+-----------+\n",
            "\n"
          ]
        }
      ]
    },
    {
      "cell_type": "code",
      "source": [
        "# left Anti Join - Bring everything from the left that don´t exist on the right\n",
        "employee.join(dpto, employee[\"dpto\"] == dpto[\"dpto\"], how = \"left_anti\").show()\n",
        "\n",
        "# right Anti Join - Bring everything from the right that don´t exist on the left\n",
        "dpto.join(employee, employee[\"dpto\"] == dpto[\"dpto\"], how = \"left_anti\").show()"
      ],
      "metadata": {
        "id": "eg4IpMjJNkzP",
        "outputId": "6c6cd88e-6b1c-43cb-d9ae-2da9cba4b27b",
        "colab": {
          "base_uri": "https://localhost:8080/"
        }
      },
      "execution_count": 9,
      "outputs": [
        {
          "output_type": "stream",
          "name": "stdout",
          "text": [
            "+---+-----+----+\n",
            "| id| name|dpto|\n",
            "+---+-----+----+\n",
            "|107|Jimmy|   5|\n",
            "+---+-----+----+\n",
            "\n",
            "+----+--------+\n",
            "|dpto|deptname|\n",
            "+----+--------+\n",
            "|   4| Finance|\n",
            "+----+--------+\n",
            "\n"
          ]
        }
      ]
    },
    {
      "cell_type": "markdown",
      "source": [
        "### Using SQL"
      ],
      "metadata": {
        "id": "37RxTSWRQLY9"
      }
    },
    {
      "cell_type": "code",
      "source": [
        "employee.createOrReplaceTempView(\"employee\")\n",
        "dpto.createOrReplaceTempView(\"dpto\")\n",
        "\n",
        "# bring all the employees with or without department\n",
        "spark.sql(\"select * from employee left join dpto using (dpto)\").show()"
      ],
      "metadata": {
        "id": "sWmJ_CmZQExG",
        "outputId": "6b038fd5-3234-4605-a8d6-80125e371f4a",
        "colab": {
          "base_uri": "https://localhost:8080/"
        }
      },
      "execution_count": 10,
      "outputs": [
        {
          "output_type": "stream",
          "name": "stdout",
          "text": [
            "+----+---+-----+-----------+\n",
            "|dpto| id| name|   deptname|\n",
            "+----+---+-----+-----------+\n",
            "|   5|107|Jimmy|       NULL|\n",
            "|   1|102| Paul|Engineering|\n",
            "|   1|103| John|Engineering|\n",
            "|   3|101|Chloe|  Marketing|\n",
            "|   3|105| Evan|  Marketing|\n",
            "|   3|106|  Amy|  Marketing|\n",
            "|   2|104| Lisa|      Sales|\n",
            "+----+---+-----+-----------+\n",
            "\n"
          ]
        }
      ]
    },
    {
      "cell_type": "markdown",
      "source": [
        "# Union / Minus / Intersect"
      ],
      "metadata": {
        "id": "SLbibB0-Uhap"
      }
    },
    {
      "cell_type": "code",
      "source": [
        "employee_hr = employee\n",
        "\n",
        "data = [(200, \"George\", 5), (201, \"Anna\", 5), (202, \"Carl\", 3), (101, \"Chloe\", 3), (103, \"John\", 1), (106, \"Amy\", 1)]\n",
        "employee_erp = spark.createDataFrame(data, schema=[\"id\", \"name\", \"dpto\"])\n",
        "\n",
        "print(\"HR database\")\n",
        "employee_hr.show()\n",
        "\n",
        "print(\"ERP database\")\n",
        "employee_erp.show()"
      ],
      "metadata": {
        "id": "1Kv63IAYUmJy",
        "outputId": "417a4ed9-e4a9-41b6-8ac7-c0219867182e",
        "colab": {
          "base_uri": "https://localhost:8080/"
        }
      },
      "execution_count": 11,
      "outputs": [
        {
          "output_type": "stream",
          "name": "stdout",
          "text": [
            "HR database\n",
            "+---+-----+----+\n",
            "| id| name|dpto|\n",
            "+---+-----+----+\n",
            "|101|Chloe|   3|\n",
            "|102| Paul|   1|\n",
            "|103| John|   1|\n",
            "|104| Lisa|   2|\n",
            "|105| Evan|   3|\n",
            "|106|  Amy|   3|\n",
            "|107|Jimmy|   5|\n",
            "+---+-----+----+\n",
            "\n",
            "ERP database\n",
            "+---+------+----+\n",
            "| id|  name|dpto|\n",
            "+---+------+----+\n",
            "|200|George|   5|\n",
            "|201|  Anna|   5|\n",
            "|202|  Carl|   3|\n",
            "|101| Chloe|   3|\n",
            "|103|  John|   1|\n",
            "|106|   Amy|   1|\n",
            "+---+------+----+\n",
            "\n"
          ]
        }
      ]
    },
    {
      "cell_type": "code",
      "source": [
        "# union / unionByName\n",
        "print(\"Combine both dataframes\")\n",
        "employee_hr.unionByName(employee_erp).show() # union, unionAll\n",
        "\n",
        "print(\"Get values that are common in both dataframes\")\n",
        "employee_hr.intersect(employee_erp).show()\n",
        "\n",
        "print(\"Get only the difference - does not exist on the second dataframe\")\n",
        "employee_hr.exceptAll(employee_erp).show()"
      ],
      "metadata": {
        "id": "61QkSnA7WjI8",
        "outputId": "b3f41020-bf49-4f6e-b24e-6512a16dbbf2",
        "colab": {
          "base_uri": "https://localhost:8080/"
        }
      },
      "execution_count": 12,
      "outputs": [
        {
          "output_type": "stream",
          "name": "stdout",
          "text": [
            "Combine both dataframes\n",
            "+---+------+----+\n",
            "| id|  name|dpto|\n",
            "+---+------+----+\n",
            "|101| Chloe|   3|\n",
            "|102|  Paul|   1|\n",
            "|103|  John|   1|\n",
            "|104|  Lisa|   2|\n",
            "|105|  Evan|   3|\n",
            "|106|   Amy|   3|\n",
            "|107| Jimmy|   5|\n",
            "|200|George|   5|\n",
            "|201|  Anna|   5|\n",
            "|202|  Carl|   3|\n",
            "|101| Chloe|   3|\n",
            "|103|  John|   1|\n",
            "|106|   Amy|   1|\n",
            "+---+------+----+\n",
            "\n",
            "Get values that are common in both dataframes\n",
            "+---+-----+----+\n",
            "| id| name|dpto|\n",
            "+---+-----+----+\n",
            "|101|Chloe|   3|\n",
            "|103| John|   1|\n",
            "+---+-----+----+\n",
            "\n",
            "Get only the difference - does not exist on the second dataframe\n",
            "+---+-----+----+\n",
            "| id| name|dpto|\n",
            "+---+-----+----+\n",
            "|106|  Amy|   3|\n",
            "|105| Evan|   3|\n",
            "|104| Lisa|   2|\n",
            "|102| Paul|   1|\n",
            "|107|Jimmy|   5|\n",
            "+---+-----+----+\n",
            "\n"
          ]
        }
      ]
    },
    {
      "cell_type": "markdown",
      "source": [
        "# Questions"
      ],
      "metadata": {
        "id": "E_enboWOQF3x"
      }
    },
    {
      "cell_type": "code",
      "source": [
        "# Q1\n",
        "# Implement Cartesian Product using dataframe and SQL\n",
        "# Use employee and dpto\n",
        "cartesian_df = employee.crossJoin(dpto)\n",
        "cartesian_df.show()\n",
        "\n",
        "cartesian_sql = spark.sql(\"\"\"\n",
        "    SELECT *\n",
        "    FROM employee\n",
        "    CROSS JOIN dpto\n",
        "\"\"\")\n",
        "\n",
        "cartesian_sql.show()"
      ],
      "metadata": {
        "id": "-SDXliPvNtnr",
        "outputId": "e5c6ea39-661e-4b7f-ea81-ddd711438630",
        "colab": {
          "base_uri": "https://localhost:8080/"
        }
      },
      "execution_count": 14,
      "outputs": [
        {
          "output_type": "stream",
          "name": "stdout",
          "text": [
            "+---+-----+----+----+-----------+\n",
            "| id| name|dpto|dpto|   deptname|\n",
            "+---+-----+----+----+-----------+\n",
            "|101|Chloe|   3|   1|Engineering|\n",
            "|101|Chloe|   3|   2|      Sales|\n",
            "|101|Chloe|   3|   3|  Marketing|\n",
            "|101|Chloe|   3|   4|    Finance|\n",
            "|102| Paul|   1|   1|Engineering|\n",
            "|102| Paul|   1|   2|      Sales|\n",
            "|102| Paul|   1|   3|  Marketing|\n",
            "|102| Paul|   1|   4|    Finance|\n",
            "|103| John|   1|   1|Engineering|\n",
            "|103| John|   1|   2|      Sales|\n",
            "|103| John|   1|   3|  Marketing|\n",
            "|103| John|   1|   4|    Finance|\n",
            "|104| Lisa|   2|   1|Engineering|\n",
            "|104| Lisa|   2|   2|      Sales|\n",
            "|104| Lisa|   2|   3|  Marketing|\n",
            "|104| Lisa|   2|   4|    Finance|\n",
            "|105| Evan|   3|   1|Engineering|\n",
            "|105| Evan|   3|   2|      Sales|\n",
            "|105| Evan|   3|   3|  Marketing|\n",
            "|105| Evan|   3|   4|    Finance|\n",
            "+---+-----+----+----+-----------+\n",
            "only showing top 20 rows\n",
            "\n",
            "+---+-----+----+----+-----------+\n",
            "| id| name|dpto|dpto|   deptname|\n",
            "+---+-----+----+----+-----------+\n",
            "|101|Chloe|   3|   1|Engineering|\n",
            "|101|Chloe|   3|   2|      Sales|\n",
            "|101|Chloe|   3|   3|  Marketing|\n",
            "|101|Chloe|   3|   4|    Finance|\n",
            "|102| Paul|   1|   1|Engineering|\n",
            "|102| Paul|   1|   2|      Sales|\n",
            "|102| Paul|   1|   3|  Marketing|\n",
            "|102| Paul|   1|   4|    Finance|\n",
            "|103| John|   1|   1|Engineering|\n",
            "|103| John|   1|   2|      Sales|\n",
            "|103| John|   1|   3|  Marketing|\n",
            "|103| John|   1|   4|    Finance|\n",
            "|104| Lisa|   2|   1|Engineering|\n",
            "|104| Lisa|   2|   2|      Sales|\n",
            "|104| Lisa|   2|   3|  Marketing|\n",
            "|104| Lisa|   2|   4|    Finance|\n",
            "|105| Evan|   3|   1|Engineering|\n",
            "|105| Evan|   3|   2|      Sales|\n",
            "|105| Evan|   3|   3|  Marketing|\n",
            "|105| Evan|   3|   4|    Finance|\n",
            "+---+-----+----+----+-----------+\n",
            "only showing top 20 rows\n",
            "\n"
          ]
        }
      ]
    },
    {
      "cell_type": "code",
      "source": [
        "# Q2\n",
        "# Implement \"Left Anti Join\" using SQL\n",
        "# Use employee and dpto"
      ],
      "metadata": {
        "id": "EjiSSK6HOsGS"
      },
      "execution_count": null,
      "outputs": []
    }
  ],
  "metadata": {
    "colab": {
      "provenance": []
    },
    "kernelspec": {
      "display_name": "Python 3",
      "name": "python3"
    },
    "language_info": {
      "name": "python"
    }
  },
  "nbformat": 4,
  "nbformat_minor": 0
}